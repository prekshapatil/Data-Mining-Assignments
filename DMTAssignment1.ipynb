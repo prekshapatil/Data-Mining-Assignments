{
 "cells": [
  {
   "cell_type": "markdown",
   "metadata": {},
   "source": [
    "# CS 6220 Data Mining — Assignment 1"
   ]
  },
  {
   "cell_type": "markdown",
   "metadata": {},
   "source": [
    "# Exploring the MovieLens 1M Dataset"
   ]
  },
  {
   "cell_type": "markdown",
   "metadata": {},
   "source": [
    "## **Code**"
   ]
  },
  {
   "cell_type": "code",
   "execution_count": 3,
   "metadata": {
    "collapsed": false,
    "jupyter": {
     "outputs_hidden": false
    }
   },
   "outputs": [],
   "source": [
    "import pandas as pd"
   ]
  },
  {
   "cell_type": "code",
   "execution_count": 5,
   "metadata": {
    "collapsed": false,
    "jupyter": {
     "outputs_hidden": false
    }
   },
   "outputs": [],
   "source": [
    "unames = ['user_id', 'gender', 'age', 'occupation', 'zip']\n",
    "users = pd.read_table('ml-1m/users.dat', sep='::', header=None, names=unames, engine='python', encoding='latin-1')\n",
    "\n",
    "rnames = ['user_id', 'movie_id', 'rating', 'timestamp']\n",
    "ratings = pd.read_table('ml-1m/ratings.dat', sep='::', header=None, names=rnames, engine='python', encoding='latin-1')\n",
    "\n",
    "mnames = ['movie_id', 'title', 'genres']\n",
    "movies = pd.read_table('ml-1m/movies.dat', sep='::', header=None, names=mnames, engine='python', encoding='latin-1')\n"
   ]
  },
  {
   "cell_type": "markdown",
   "metadata": {},
   "source": [
    "Having all information spread across different tables makes it much more dificult to analyse the data. Using pandas's merge function, we first merge ratings with users then we merge that result with the movies data. pandas infers which columns to\n",
    "use as the merge (or join) keys based on overlapping names:"
   ]
  },
  {
   "cell_type": "code",
   "execution_count": 8,
   "metadata": {
    "collapsed": false,
    "jupyter": {
     "outputs_hidden": false
    }
   },
   "outputs": [],
   "source": [
    "data = pd.merge(pd.merge(ratings, users), movies)"
   ]
  },
  {
   "cell_type": "code",
   "execution_count": 10,
   "metadata": {
    "collapsed": false,
    "jupyter": {
     "outputs_hidden": false
    }
   },
   "outputs": [],
   "source": [
    "mean_ratings = data.pivot_table('rating', index='title', columns='gender', aggfunc='mean')"
   ]
  },
  {
   "cell_type": "code",
   "execution_count": 12,
   "metadata": {
    "collapsed": false,
    "jupyter": {
     "outputs_hidden": false
    }
   },
   "outputs": [],
   "source": [
    "ratings_by_title = data.groupby('title').size()"
   ]
  },
  {
   "cell_type": "code",
   "execution_count": 14,
   "metadata": {
    "collapsed": false,
    "jupyter": {
     "outputs_hidden": false
    }
   },
   "outputs": [],
   "source": [
    "active_titles = ratings_by_title.index[ratings_by_title >= 250]"
   ]
  },
  {
   "cell_type": "code",
   "execution_count": 16,
   "metadata": {
    "collapsed": false,
    "jupyter": {
     "outputs_hidden": false
    }
   },
   "outputs": [],
   "source": [
    "mean_ratings = mean_ratings.loc[active_titles]\n"
   ]
  },
  {
   "cell_type": "code",
   "execution_count": 18,
   "metadata": {
    "collapsed": false,
    "jupyter": {
     "outputs_hidden": false
    }
   },
   "outputs": [],
   "source": [
    "top_female_ratings = mean_ratings.sort_values(by='F', ascending=False)"
   ]
  },
  {
   "cell_type": "code",
   "execution_count": 20,
   "metadata": {
    "collapsed": false,
    "jupyter": {
     "outputs_hidden": false
    }
   },
   "outputs": [],
   "source": [
    "top_male_ratings = mean_ratings.sort_values(by='M', ascending=False)"
   ]
  },
  {
   "cell_type": "code",
   "execution_count": 22,
   "metadata": {
    "collapsed": false,
    "jupyter": {
     "outputs_hidden": false
    }
   },
   "outputs": [],
   "source": [
    "mean_ratings['diff'] = mean_ratings['M'] - mean_ratings['F']"
   ]
  },
  {
   "cell_type": "code",
   "execution_count": 24,
   "metadata": {
    "collapsed": false,
    "jupyter": {
     "outputs_hidden": false
    }
   },
   "outputs": [],
   "source": [
    "sorted_by_diff = mean_ratings.sort_values(by='diff')"
   ]
  },
  {
   "cell_type": "markdown",
   "metadata": {},
   "source": [
    "# 1. An aggregate of movie ratings by men of age above 25 for each particular genre,e.g., Action, Adventure, Drama, Science Fiction etc. Note that Action|Drama|Thriller’ is not considered a unique genre. The movie that has a genre like this belongs to all three genres."
   ]
  },
  {
   "cell_type": "code",
   "execution_count": 33,
   "metadata": {},
   "outputs": [
    {
     "name": "stdout",
     "output_type": "stream",
     "text": [
      "Action         3.554547\n",
      "Adventure      3.538637\n",
      "Animation      3.721569\n",
      "Children's     3.475314\n",
      "Comedy         3.565456\n",
      "Crime          3.764249\n",
      "Documentary    3.950192\n",
      "Drama          3.812309\n",
      "Fantasy        3.490408\n",
      "Film-Noir      4.117140\n",
      "Horror         3.241089\n",
      "Musical        3.700242\n",
      "Mystery        3.759347\n",
      "Romance        3.659748\n",
      "Sci-Fi         3.509693\n",
      "Thriller       3.644025\n",
      "War            3.940634\n",
      "Western        3.708494\n",
      "dtype: float64\n"
     ]
    }
   ],
   "source": [
    "# Filter data for male users over 25\n",
    "data_men_over_25 = data[(data['gender'] == 'M') & (data['age'] > 25)]\n",
    "\n",
    "# Split the 'genres' column into multiple genres\n",
    "genres_split = data_men_over_25['genres'].str.get_dummies('|')\n",
    "\n",
    "# Multiply each genre by the rating to distribute ratings across genres\n",
    "ratings_by_genre = genres_split.multiply(data_men_over_25['rating'], axis=0)\n",
    "\n",
    "# Calculate the total number of ratings for each genre\n",
    "total_ratings_per_genre = genres_split.sum()\n",
    "\n",
    "# Calculate the average rating for each genre by dividing the total ratings by the count of ratings\n",
    "avg_ratings_by_genre = ratings_by_genre.sum() / total_ratings_per_genre\n",
    "\n",
    "# Display the average ratings for each genre\n",
    "print(avg_ratings_by_genre)\n"
   ]
  },
  {
   "cell_type": "markdown",
   "metadata": {},
   "source": [
    "The solution outputs the average rating for each genre, aggregated by men over 25. For example, genres like Action, Drama, and Comedy will show their respective average ratings based on how male users over 25 rated movies in those genres."
   ]
  },
  {
   "cell_type": "markdown",
   "metadata": {},
   "source": [
    "# 2. The top 5 ranked movies by the most number of ratings (not the highest rating)."
   ]
  },
  {
   "cell_type": "code",
   "execution_count": 37,
   "metadata": {},
   "outputs": [
    {
     "name": "stdout",
     "output_type": "stream",
     "text": [
      "title\n",
      "American Beauty (1999)                                   3428\n",
      "Star Wars: Episode IV - A New Hope (1977)                2991\n",
      "Star Wars: Episode V - The Empire Strikes Back (1980)    2990\n",
      "Star Wars: Episode VI - Return of the Jedi (1983)        2883\n",
      "Jurassic Park (1993)                                     2672\n",
      "dtype: int64\n"
     ]
    }
   ],
   "source": [
    "# Group the data by movie title and count the number of ratings each movie received\n",
    "ratings_by_movie = data.groupby('title').size()\n",
    "\n",
    "# Sort the movies by the number of ratings in descending order\n",
    "top_5_movies = ratings_by_movie.sort_values(ascending=False).head(5)\n",
    "\n",
    "# Display the top 5 movies by the number of ratings\n",
    "print(top_5_movies)\n"
   ]
  },
  {
   "cell_type": "markdown",
   "metadata": {},
   "source": [
    "The result shows the top 5 movies ranked by the number of user ratings they received. \"American Beauty (1999)\" leads with the most ratings at 3428, followed closely by the original \"Star Wars\" trilogy with nearly 3000 ratings each. \"Jurassic Park (1993)\" also appears in the top 5, showing its popularity and widespread viewership. This ranking emphasizes the most popular movies in terms of engagement, regardless of the actual ratings given by users."
   ]
  },
  {
   "cell_type": "markdown",
   "metadata": {},
   "source": [
    "# 3. Average movie ratings between users of different age groups (<18, 18-30, 30-50, 50-70, 70>)"
   ]
  },
  {
   "cell_type": "code",
   "execution_count": 41,
   "metadata": {},
   "outputs": [
    {
     "name": "stdout",
     "output_type": "stream",
     "text": [
      "age_group_mapped\n",
      "18-30    3.533299\n",
      "30-50    3.624050\n",
      "50-70    3.732677\n",
      "<18      3.549520\n",
      "Name: rating, dtype: float64\n"
     ]
    }
   ],
   "source": [
    "age_mapping = {\n",
    "    1: '<18',     # \"Under 18\"\n",
    "    18: '18-30',  # \"18-24\"\n",
    "    25: '18-30',  # \"25-34\" -> Assigned to 18-30 for simplicity\n",
    "    35: '30-50',  # \"35-44\"\n",
    "    45: '30-50',  # \"45-49\"\n",
    "    50: '50-70',  # \"50-55\"\n",
    "    56: '50-70'   # \"56+\" -> Includes users older than 70\n",
    "}\n",
    "\n",
    "# Create a new column 'age_group_mapped' in the data based on the mapping\n",
    "data['age_group_mapped'] = data['age'].map(age_mapping)\n",
    "\n",
    "# Group the data by the remapped age group and calculate the average rating\n",
    "avg_ratings_by_age_group = data.groupby('age_group_mapped')['rating'].mean()\n",
    "\n",
    "# Display the average ratings for each age group\n",
    "print(avg_ratings_by_age_group)\n"
   ]
  },
  {
   "cell_type": "markdown",
   "metadata": {},
   "source": [
    "The result shows the average movie ratings across different age groups.\n",
    "This breakdown helps highlight how movie preferences and rating behaviors can vary significantly between different age demographics."
   ]
  },
  {
   "cell_type": "markdown",
   "metadata": {},
   "source": [
    "# 4. Pick a movie of your choice and for all movies of the same year, provide a breakdown of the number of unique movies rated by 3 ranges of age of reviewers (a) under 18 (b) 19 to 45 (c) Above 45."
   ]
  },
  {
   "cell_type": "code",
   "execution_count": 45,
   "metadata": {},
   "outputs": [
    {
     "name": "stdout",
     "output_type": "stream",
     "text": [
      "age_group_task4\n",
      "19-45    22\n",
      "<18      16\n",
      ">45      21\n",
      "Name: title, dtype: int64\n"
     ]
    }
   ],
   "source": [
    "chosen_movie = 'Star Wars: Episode IV - A New Hope (1977)'\n",
    "chosen_movie_year = data[data['title'] == chosen_movie]['title'].str.extract(r'\\((\\d{4})\\)').iloc[0, 0]\n",
    "\n",
    "# Filter the dataset for movies released in the same year\n",
    "movies_same_year = data[data['title'].str.contains(rf'\\({chosen_movie_year}\\)')].copy()\n",
    "\n",
    "# Define new age groups for the analysis\n",
    "age_groups = {\n",
    "    1: '<18',     # \"Under 18\"\n",
    "    18: '19-45',  # \"18-24\" falls into the 19-45 range\n",
    "    25: '19-45',  # \"25-34\"\n",
    "    35: '19-45',  # \"35-44\"\n",
    "    45: '19-45',  # \"45-49\"\n",
    "    50: '>45',    # \"50-55\"\n",
    "    56: '>45'     # \"56+\"\n",
    "}\n",
    "\n",
    "# Create a new column 'age_group_task4' using the new age group mapping\n",
    "movies_same_year['age_group_task4'] = movies_same_year['age'].map(age_groups)\n",
    "\n",
    "# Group by the new age groups and calculate the number of unique movies rated by each group\n",
    "unique_movies_by_age_group = movies_same_year.groupby('age_group_task4')['title'].nunique()\n",
    "\n",
    "# Display the number of unique movies rated by each age group\n",
    "print(unique_movies_by_age_group)\n"
   ]
  },
  {
   "cell_type": "markdown",
   "metadata": {},
   "source": [
    "The result presents the number of unique movies rated by different age groups for movies released in the same year as \"Star Wars: Episode IV - A New Hope (1977)\". "
   ]
  },
  {
   "cell_type": "markdown",
   "metadata": {},
   "source": [
    "# 5. A function that takes in a user_id and a movie_id, and returns a list of all the other movies that the user rated similarly to the given movie, i.e. with the same rating. Demonstrate that your function works."
   ]
  },
  {
   "cell_type": "code",
   "execution_count": 49,
   "metadata": {},
   "outputs": [
    {
     "name": "stdout",
     "output_type": "stream",
     "text": [
      "Movies rated similarly by user 1:\n",
      "[\"Bug's Life, A (1998)\", 'Ben-Hur (1959)', 'Christmas Story, A (1983)', 'Beauty and the Beast (1991)', 'Sound of Music, The (1965)', 'Awakenings (1990)', 'Back to the Future (1985)', \"Schindler's List (1993)\", 'Pocahontas (1995)', 'Last Days of Disco, The (1998)', 'Cinderella (1950)', 'Apollo 13 (1995)', 'Toy Story (1995)', 'Rain Man (1988)', 'Mary Poppins (1964)', 'Dumbo (1941)', 'Saving Private Ryan (1998)']\n"
     ]
    }
   ],
   "source": [
    "def find_similar_rated_movies(user_id, movie_id):\n",
    "    # Retrieve the rating the user gave to the specified movie\n",
    "    user_rating = data[(data['user_id'] == user_id) & (data['movie_id'] == movie_id)]\n",
    "    \n",
    "    if user_rating.empty:\n",
    "        return f\"No rating found for user {user_id} and movie {movie_id}\"\n",
    "    \n",
    "    # Get the rating value\n",
    "    rating_value = user_rating['rating'].values[0]\n",
    "    \n",
    "    # Find all movies the user rated with the same rating, excluding the given movie\n",
    "    similar_rated_movies = data[(data['user_id'] == user_id) & (data['rating'] == rating_value) & (data['movie_id'] != movie_id)]\n",
    "    \n",
    "    # Return a list of movie titles that the user rated similarly\n",
    "    return similar_rated_movies['title'].tolist()\n",
    "\n",
    "# Testing the function with a sample user_id and movie_id\n",
    "user_id_example = 1  # Example user\n",
    "movie_id_example = 1193  # Example movie (ID for \"One Flew Over the Cuckoo's Nest\")\n",
    "similar_movies = find_similar_rated_movies(user_id_example, movie_id_example)\n",
    "\n",
    "print(f\"Movies rated similarly by user {user_id_example}:\")\n",
    "print(similar_movies)\n"
   ]
  },
  {
   "cell_type": "markdown",
   "metadata": {},
   "source": [
    "The function successfully returns a list of movies that user 1 rated similarly to \"One Flew Over the Cuckoo's Nest\". The list includes a variety of classic films such as \"Schindler's List (1993)\", \"Back to the Future (1985)\", and animated features like \"Beauty and the Beast (1991)\"."
   ]
  },
  {
   "cell_type": "markdown",
   "metadata": {},
   "source": [
    "# 6. Some other statistic, figure, aggregate, or plot that you created using this dataset, along with a short description of what interesting observations you derived from it."
   ]
  },
  {
   "cell_type": "code",
   "execution_count": 53,
   "metadata": {},
   "outputs": [
    {
     "data": {
      "image/png": "[encoded data removed]",
      "text/plain": [
       "<Figure size 1000x600 with 1 Axes>"
      ]
     },
     "metadata": {},
     "output_type": "display_data"
    }
   ],
   "source": [
    "import matplotlib.pyplot as plt\n",
    "\n",
    "# Group by title and calculate the average rating for each movie\n",
    "avg_movie_ratings = data.groupby('title')['rating'].mean()\n",
    "\n",
    "# Count the number of ratings for each movie\n",
    "ratings_count = data.groupby('title').size()\n",
    "\n",
    "# Filter to movies with at least 100 ratings\n",
    "popular_movies = avg_movie_ratings[ratings_count >= 100]\n",
    "\n",
    "# Sort the movies by average rating in descending order and select the top 10\n",
    "top_10_movies = popular_movies.sort_values(ascending=False).head(10)\n",
    "\n",
    "# Plot the top 10 movies\n",
    "plt.figure(figsize=(10, 6))\n",
    "top_10_movies.plot(kind='barh', color='skyblue')\n",
    "plt.xlabel('Average Rating')\n",
    "plt.title('Top 10 Highest Rated Movies (with at least 100 ratings)')\n",
    "plt.gca().invert_yaxis()  # Invert y-axis to have the highest rated movie on top\n",
    "plt.show()\n"
   ]
  },
  {
   "cell_type": "markdown",
   "metadata": {},
   "source": [
    "The bar plot illustrates the Top 10 highest-rated movies with at least 100 ratings. The results highlight that movies like \"Seven Samurai (1954)\", \"The Shawshank Redemption (1994)\", and \"The Godfather (1972)\" are highly regarded by users. Interestingly, animated shorts such as \"The Wrong Trousers (1993)\" also appear in the top rankings, showing that even shorter films can achieve high praise. This provides a clear view of user preferences for well-established, critically acclaimed films."
   ]
  }
 ],
 "metadata": {
  "kernelspec": {
   "display_name": "Python 3 (ipykernel)",
   "language": "python",
   "name": "python3"
  },
  "language_info": {
   "codemirror_mode": {
    "name": "ipython",
    "version": 3
   },
   "file_extension": ".py",
   "mimetype": "text/x-python",
   "name": "python",
   "nbconvert_exporter": "python",
   "pygments_lexer": "ipython3",
   "version": "3.12.4"
  }
 },
 "nbformat": 4,
 "nbformat_minor": 4
}
